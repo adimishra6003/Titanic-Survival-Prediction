{
 "cells": [
  {
   "cell_type": "code",
   "execution_count": 1,
   "metadata": {},
   "outputs": [
    {
     "name": "stdout",
     "output_type": "stream",
     "text": [
      "Accuracy using Logistic Regression = 0.7991021324354658\n",
      "Accuracy using Polynomial Features = 0.8338945005611672\n"
     ]
    },
    {
     "name": "stderr",
     "output_type": "stream",
     "text": [
      "c:\\users\\cg-dte\\appdata\\local\\programs\\python\\python36\\lib\\site-packages\\sklearn\\linear_model\\logistic.py:433: FutureWarning: Default solver will be changed to 'lbfgs' in 0.22. Specify a solver to silence this warning.\n",
      "  FutureWarning)\n",
      "c:\\users\\cg-dte\\appdata\\local\\programs\\python\\python36\\lib\\site-packages\\sklearn\\linear_model\\logistic.py:433: FutureWarning: Default solver will be changed to 'lbfgs' in 0.22. Specify a solver to silence this warning.\n",
      "  FutureWarning)\n"
     ]
    }
   ],
   "source": [
    "import pandas as pd\n",
    "from sklearn import linear_model,preprocessing\n",
    "def clean_data (data):\n",
    "    data['Fare']=data['Fare'].fillna(data['Fare'].dropna().median())\n",
    "    data['Age']=data['Age'].fillna(data['Age'].dropna().median())\n",
    "    \n",
    "    data.loc[data['Sex']=='male', 'Sex']=0\n",
    "    data.loc[data['Sex']=='female', 'Sex']=1\n",
    "    \n",
    "    data['Embarked']=data['Embarked'].fillna('S')\n",
    "    data.loc[data['Embarked']=='S', 'Embarked']=0\n",
    "    data.loc[data['Embarked']=='C', 'Embarked']=1\n",
    "    data.loc[data['Embarked']=='Q', 'Embarked']=2\n",
    "train=pd.read_csv(r'C:\\Users\\CG-DTE\\Desktop\\NITRR\\Titanic\\titanic-dataset-from-kaggle\\train.csv')\n",
    "target=train.Survived\n",
    "clean_data(train)\n",
    "features_name=['Pclass','Fare','Embarked','Age','Sex','SibSp','Parch']\n",
    "features=train[features_name]\n",
    "classifier=linear_model.LogisticRegression()\n",
    "classifier_=classifier.fit(features, target)\n",
    "print('Accuracy using Logistic Regression =',classifier_.score(features, target))\n",
    "\n",
    "poly=preprocessing.PolynomialFeatures(degree=2)\n",
    "poly_features=poly.fit_transform(features)\n",
    "\n",
    "classifier_=classifier.fit(poly_features, target)\n",
    "print('Accuracy using Polynomial Features =',classifier_.score(poly_features, target))"
   ]
  }
 ],
 "metadata": {
  "kernelspec": {
   "display_name": "Python 3",
   "language": "python",
   "name": "python3"
  },
  "language_info": {
   "codemirror_mode": {
    "name": "ipython",
    "version": 3
   },
   "file_extension": ".py",
   "mimetype": "text/x-python",
   "name": "python",
   "nbconvert_exporter": "python",
   "pygments_lexer": "ipython3",
   "version": "3.6.2"
  }
 },
 "nbformat": 4,
 "nbformat_minor": 2
}
